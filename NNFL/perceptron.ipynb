{
  "nbformat": 4,
  "nbformat_minor": 0,
  "metadata": {
    "colab": {
      "name": "Untitled3.ipynb",
      "provenance": [],
      "collapsed_sections": []
    },
    "kernelspec": {
      "name": "python3",
      "display_name": "Python 3"
    },
    "language_info": {
      "name": "python"
    }
  },
  "cells": [
    {
      "cell_type": "code",
      "metadata": {
        "id": "Va3L2kNLW9ba"
      },
      "source": [
        "import numpy as np\n",
        "import matplotlib.pyplot as plt"
      ],
      "execution_count": 3,
      "outputs": []
    },
    {
      "cell_type": "markdown",
      "metadata": {
        "id": "r9prsG5fZpeg"
      },
      "source": [
        "# Implementation of AND gate"
      ]
    },
    {
      "cell_type": "code",
      "metadata": {
        "id": "MhShXxCLtkh8"
      },
      "source": [
        "def perceptron(Input, Expected_Output):\n",
        "  \n",
        "  # Initial Weights \n",
        "  Weights = np.array([0, 0, 0])\n",
        "\n",
        "  # Training \n",
        "  history, Weights, threshold = training(Input, Expected_Output, Weights)\n",
        "  \n",
        "  # Printing Output\n",
        "  Final_Output=printoutput(Input, Weights, threshold)\n",
        "\n",
        "  return history, Final_Output"
      ],
      "execution_count": 5,
      "outputs": []
    },
    {
      "cell_type": "code",
      "metadata": {
        "id": "abHIfO4uhTf2"
      },
      "source": [
        "def training(Input, Expected_Output, Weights):\n",
        "\n",
        "  num_iters = 10\n",
        "  threshold = 2\n",
        "  history = []\n",
        "\n",
        "  for _ in range(num_iters):\n",
        "    history.append(0)\n",
        "    for i in range(len(Input)):\n",
        "\n",
        "      ## Calculate the output and error.\n",
        "      ## Output = 1 if weighted sum crosses threshold, else 0.\n",
        "      ## Error = Expected Ouput - Calculated Output\n",
        "      sum = np.dot(Input[i],Weights)\n",
        "      Calculated_Output = sum > threshold    \n",
        "\n",
        "      ## Add error to the history and update weights.\n",
        "      Error = Expected_Output[i] - Calculated_Output\n",
        "      history[-1] +=abs(Error)\n",
        "      Weights = Weights + Error*Input[i]\n",
        "      \n",
        "  \n",
        "  return history, Weights, threshold"
      ],
      "execution_count": 6,
      "outputs": []
    },
    {
      "cell_type": "code",
      "metadata": {
        "id": "RYcawCBuj3aT"
      },
      "source": [
        "def printoutput(Input, Weights, threshold):\n",
        "\n",
        "    Final_Output = np.zeros(len(Input))\n",
        "    for i in range(len(Input)):\n",
        "      sum = np.dot(Input[i], Weights)\n",
        "      Calculated_Output = sum > threshold\n",
        "      Final_Output[i] = Calculated_Output\n",
        "\n",
        "    print(Final_Output == Expected_Output)\n",
        "\n",
        "    return Final_Output"
      ],
      "execution_count": 7,
      "outputs": []
    },
    {
      "cell_type": "code",
      "metadata": {
        "colab": {
          "base_uri": "https://localhost:8080/",
          "height": 329
        },
        "id": "SOQscH-VZ7mW",
        "outputId": "e8d36249-7be0-4527-8243-ed774cb14f36"
      },
      "source": [
        "# Calling the function perceptron\n",
        "Input = np.array([[1,0,0],\n",
        "                 [1,0,1],\n",
        "                 [1,1,0],\n",
        "                 [1,1,1]])\n",
        "\n",
        "Expected_Output = np.array([0,0,0,1])\n",
        "history, Final_Output = perceptron(Input, Expected_Output)\n",
        "\n",
        "print(Final_Output)\n",
        "plt.plot(history)\n",
        "plt.title(\"Iterations vs Error\")\n",
        "plt.xlabel(\"Iteration no.\")\n",
        "plt.ylabel(\"Error\")\n",
        "plt.show()"
      ],
      "execution_count": 8,
      "outputs": [
        {
          "output_type": "stream",
          "text": [
            "[ True  True  True  True]\n",
            "[0. 0. 0. 1.]\n"
          ],
          "name": "stdout"
        },
        {
          "output_type": "display_data",
          "data": {
            "image/png": "[encoded data removed]",
            "text/plain": [
              "<Figure size 432x288 with 1 Axes>"
            ]
          },
          "metadata": {
            "needs_background": "light"
          }
        }
      ]
    },
    {
      "cell_type": "markdown",
      "metadata": {
        "id": "A7TCMVYca4Z2"
      },
      "source": [
        "# Implementation of XOR gate"
      ]
    },
    {
      "cell_type": "code",
      "metadata": {
        "id": "_eIlqF81bzAc"
      },
      "source": [
        "def perceptron(Input, Expected_Output):\n",
        "  \n",
        "  # Initial Weights \n",
        "  Weights = np.array([0, 0, 0])\n",
        "\n",
        "  # Training \n",
        "  history, Weights, threshold = training(Input, Expected_Output, Weights)\n",
        "  \n",
        "  # Printing Output\n",
        "  Final_Output=printoutput(Input, Weights, threshold)\n",
        "\n",
        "  return history, Final_Output"
      ],
      "execution_count": 9,
      "outputs": []
    },
    {
      "cell_type": "code",
      "metadata": {
        "id": "5vzUkAWFb4t5"
      },
      "source": [
        "def training(Input, Expected_Output, Weights):\n",
        "\n",
        "  ## Number of times to iterate through all training samples and update the weights. Enter values of num_iters, threshold and initialise history\n",
        "  # Write Code Here\n",
        "  num_iters = 10\n",
        "  threshold = 1\n",
        "  history = []\n",
        "  # Code Ends Here\n",
        "\n",
        "  for _ in range(num_iters):\n",
        "    history.append(0)\n",
        "    for i in range(len(Input)):\n",
        "\n",
        "      ## Calculate the output and error.\n",
        "      ## Output = 1 if weighted sum crosses threshold, else 0.\n",
        "      ## Error = Expected Ouput - Calculated Output\n",
        "      # Write Code Here\n",
        "      sum = np.dot(Input[i],Weights)\n",
        "      Calculated_Output = sum > threshold    \n",
        "      # Code Ends Here\n",
        "\n",
        "      ## Add error to the history and update weights.\n",
        "      Error = Expected_Output[i] - Calculated_Output\n",
        "      history[-1] +=abs(Error)\n",
        "      Weights = Weights + Error*Input[i]\n",
        "      # Write Code Here\n",
        "    \n",
        "      # Code Ends Here\n",
        "  \n",
        "  return history, Weights, threshold"
      ],
      "execution_count": 10,
      "outputs": []
    },
    {
      "cell_type": "code",
      "metadata": {
        "id": "fMU0cjnHlPlv",
        "colab": {
          "base_uri": "https://localhost:8080/",
          "height": 346
        },
        "outputId": "a4bd00e9-a9cb-4a21-9311-792ab7efb6ac"
      },
      "source": [
        "# All possible binary input for a 2 input gates with X0 representing Bias\n",
        "Input = np.array([[1,0,0],\n",
        "                  [1,0,1],\n",
        "                  [1,1,0],\n",
        "                  [1,1,1]])\n",
        "\n",
        "# Corresponding Output\n",
        "Expected_Output = np.array([0,1,1,0])\n",
        "\n",
        "history, Final_Output = perceptron(Input, Expected_Output)\n",
        "print(Final_Output)\n",
        "print(Final_Output == Expected_Output)\n",
        "plt.plot(history)\n",
        "plt.title(\"Iterations vs Error\")\n",
        "plt.xlabel(\"Iteration no.\")\n",
        "plt.ylabel(\"Error\")\n",
        "plt.show()"
      ],
      "execution_count": 11,
      "outputs": [
        {
          "output_type": "stream",
          "text": [
            "[False  True False  True]\n",
            "[1. 1. 0. 0.]\n",
            "[False  True False  True]\n"
          ],
          "name": "stdout"
        },
        {
          "output_type": "display_data",
          "data": {
            "image/png": "[encoded data removed]",
            "text/plain": [
              "<Figure size 432x288 with 1 Axes>"
            ]
          },
          "metadata": {
            "needs_background": "light"
          }
        }
      ]
    }
  ]
}