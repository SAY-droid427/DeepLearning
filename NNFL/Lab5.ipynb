{
  "nbformat": 4,
  "nbformat_minor": 0,
  "metadata": {
    "colab": {
      "name": "Untitled8.ipynb",
      "provenance": [],
      "collapsed_sections": []
    },
    "kernelspec": {
      "name": "python3",
      "display_name": "Python 3"
    },
    "language_info": {
      "name": "python"
    },
    "accelerator": "GPU"
  },
  "cells": [
    {
      "cell_type": "code",
      "metadata": {
        "id": "fnc1Jt6zeKUu"
      },
      "source": [
        "import numpy as np\n",
        "import tensorflow as tf\n",
        "from tensorflow.keras import datasets, layers, models\n",
        "import matplotlib.pyplot as plt\n",
        "import pandas as pd\n",
        "from scipy import ndimage\n",
        "from IPython.display import Image"
      ],
      "execution_count": 2,
      "outputs": []
    },
    {
      "cell_type": "code",
      "metadata": {
        "colab": {
          "base_uri": "https://localhost:8080/",
          "height": 384
        },
        "id": "wOafgrZFean8",
        "outputId": "b6a51ccf-7b16-4b9d-c3cd-a95e7f9a523e"
      },
      "source": [
        "(x_train, y_train), (x_test, y_test) = tf.keras.datasets.mnist.load_data()\n",
        "\n",
        "image_index = 7777 # You may select anything up to 60,000\n",
        "print(y_train[image_index]) # The label is 8\n",
        "plt.imshow(x_train[image_index], cmap='Greys')\n",
        "\n",
        "# Reshaping the array to 4-dims so that it can work with the Keras API\n",
        "x_train = x_train.reshape(x_train.shape[0], 28, 28, 1)\n",
        "x_test = x_test.reshape(x_test.shape[0], 28, 28, 1)\n",
        "\n",
        "input_shape = (28, 28, 1)\n",
        "\n",
        "# Making sure that the values are float so that we can get decimal points after division\n",
        "x_train = x_train.astype('float32')\n",
        "x_test = x_test.astype('float32')\n",
        "# Normalizing the RGB codes by dividing it to the max RGB value.\n",
        "x_train /= 255\n",
        "x_test /= 255\n",
        "print('x_train shape:', x_train.shape)\n",
        "print('Number of images in x_train', x_train.shape[0])\n",
        "print('Number of images in x_test', x_test.shape[0])"
      ],
      "execution_count": 3,
      "outputs": [
        {
          "output_type": "stream",
          "name": "stdout",
          "text": [
            "Downloading data from https://storage.googleapis.com/tensorflow/tf-keras-datasets/mnist.npz\n",
            "11493376/11490434 [==============================] - 0s 0us/step\n",
            "11501568/11490434 [==============================] - 0s 0us/step\n",
            "8\n",
            "x_train shape: (60000, 28, 28, 1)\n",
            "Number of images in x_train 60000\n",
            "Number of images in x_test 10000\n"
          ]
        },
        {
          "output_type": "display_data",
          "data": {
            "image/png": "[encoded data removed]",
            "text/plain": [
              "<Figure size 432x288 with 1 Axes>"
            ]
          },
          "metadata": {
            "needs_background": "light"
          }
        }
      ]
    },
    {
      "cell_type": "code",
      "metadata": {
        "id": "cthJ8WAIlF5A"
      },
      "source": [
        "from keras.callbacks import EarlyStopping, ReduceLROnPlateau\n",
        "earlystop = EarlyStopping(monitor='val_loss',\n",
        "                          min_delta=0.001,\n",
        "                          patience=3,\n",
        "                          verbose=0,\n",
        "                          mode='auto')\n",
        "learning_rate_reduction = ReduceLROnPlateau(monitor='val_accuracy', \n",
        "                                            patience=3, \n",
        "                                            verbose=1, \n",
        "                                            factor=0.1, \n",
        "                                            min_lr=0.001)\n",
        "callbacks = [earlystop, learning_rate_reduction]"
      ],
      "execution_count": 4,
      "outputs": []
    },
    {
      "cell_type": "code",
      "metadata": {
        "colab": {
          "base_uri": "https://localhost:8080/"
        },
        "id": "Bn0FLYZwfags",
        "outputId": "42ec7619-c380-4728-cd80-6c6cfee5b913"
      },
      "source": [
        "from tensorflow.keras.models import Sequential\n",
        "\n",
        "# Creating a Sequential Model and adding the layers\n",
        "model_1 = Sequential([\n",
        "                    tf.keras.layers.Conv2D(16, kernel_size=(3,3),input_shape = input_shape),\n",
        "                    tf.keras.layers.MaxPooling2D(pool_size=(2,2)),\n",
        "                    tf.keras.layers.Conv2D(32, kernel_size=(3,3)),\n",
        "                    tf.keras.layers.Flatten(),\n",
        "                    tf.keras.layers.Dense(128, activation=tf.nn.relu),\n",
        "                    tf.keras.layers.Dense(64,activation=tf.nn.relu),\n",
        "                    tf.keras.layers.Dense(32,activation = tf.nn.relu),\n",
        "                    tf.keras.layers.Dense(10,activation=tf.nn.softmax)\n",
        "])\n",
        "\n",
        "\n",
        "model_1.compile(optimizer='adam', \n",
        "              loss='sparse_categorical_crossentropy', \n",
        "              metrics=['accuracy'])\n",
        "model_1.fit(x=x_train,y=y_train, epochs=10, validation_data = (x_test,y_test),callbacks = callbacks)"
      ],
      "execution_count": 5,
      "outputs": [
        {
          "output_type": "stream",
          "name": "stdout",
          "text": [
            "Epoch 1/10\n",
            "1875/1875 [==============================] - 42s 5ms/step - loss: 0.1789 - accuracy: 0.9459 - val_loss: 0.0725 - val_accuracy: 0.9756\n",
            "Epoch 2/10\n",
            "1875/1875 [==============================] - 9s 5ms/step - loss: 0.0637 - accuracy: 0.9808 - val_loss: 0.0541 - val_accuracy: 0.9838\n",
            "Epoch 3/10\n",
            "1875/1875 [==============================] - 9s 5ms/step - loss: 0.0456 - accuracy: 0.9855 - val_loss: 0.0492 - val_accuracy: 0.9839\n",
            "Epoch 4/10\n",
            "1875/1875 [==============================] - 9s 5ms/step - loss: 0.0358 - accuracy: 0.9890 - val_loss: 0.0402 - val_accuracy: 0.9876\n",
            "Epoch 5/10\n",
            "1875/1875 [==============================] - 9s 5ms/step - loss: 0.0274 - accuracy: 0.9915 - val_loss: 0.0440 - val_accuracy: 0.9869\n",
            "Epoch 6/10\n",
            "1875/1875 [==============================] - 10s 5ms/step - loss: 0.0257 - accuracy: 0.9919 - val_loss: 0.0668 - val_accuracy: 0.9823\n",
            "Epoch 7/10\n",
            "1875/1875 [==============================] - 10s 5ms/step - loss: 0.0198 - accuracy: 0.9937 - val_loss: 0.0575 - val_accuracy: 0.9852\n"
          ]
        },
        {
          "output_type": "execute_result",
          "data": {
            "text/plain": [
              "<keras.callbacks.History at 0x7f07c0520710>"
            ]
          },
          "metadata": {},
          "execution_count": 5
        }
      ]
    },
    {
      "cell_type": "code",
      "metadata": {
        "colab": {
          "base_uri": "https://localhost:8080/"
        },
        "id": "8HFCQE1PkBd-",
        "outputId": "c3e956f1-4b08-4021-af44-d495b4f05e9f"
      },
      "source": [
        "model_2 = Sequential([\n",
        "                    tf.keras.layers.Conv2D(16, kernel_size=(3,3),input_shape = input_shape),\n",
        "                    tf.keras.layers.Flatten(),\n",
        "                    tf.keras.layers.Dense(128, activation=tf.nn.relu),\n",
        "                    tf.keras.layers.Dropout(0.3),\n",
        "                    tf.keras.layers.Dense(32,activation = tf.nn.relu),\n",
        "                    tf.keras.layers.Dense(10,activation=tf.nn.softmax)\n",
        "])\n",
        "\n",
        "\n",
        "model_2.compile(optimizer='adam', \n",
        "              loss='sparse_categorical_crossentropy', \n",
        "              metrics=['accuracy'])\n",
        "model_2.fit(x=x_train,y=y_train, epochs=10, validation_data = (x_test,y_test),callbacks = callbacks)"
      ],
      "execution_count": 6,
      "outputs": [
        {
          "output_type": "stream",
          "name": "stdout",
          "text": [
            "Epoch 1/10\n",
            "1875/1875 [==============================] - 10s 5ms/step - loss: 0.3005 - accuracy: 0.9072 - val_loss: 0.1327 - val_accuracy: 0.9605\n",
            "Epoch 2/10\n",
            "1875/1875 [==============================] - 9s 5ms/step - loss: 0.1755 - accuracy: 0.9477 - val_loss: 0.1081 - val_accuracy: 0.9661\n",
            "Epoch 3/10\n",
            "1875/1875 [==============================] - 9s 5ms/step - loss: 0.1373 - accuracy: 0.9577 - val_loss: 0.0982 - val_accuracy: 0.9710\n",
            "Epoch 4/10\n",
            "1875/1875 [==============================] - 9s 5ms/step - loss: 0.1216 - accuracy: 0.9627 - val_loss: 0.0865 - val_accuracy: 0.9769\n",
            "Epoch 5/10\n",
            "1875/1875 [==============================] - 9s 5ms/step - loss: 0.1085 - accuracy: 0.9665 - val_loss: 0.0900 - val_accuracy: 0.9744\n",
            "Epoch 6/10\n",
            "1875/1875 [==============================] - 10s 5ms/step - loss: 0.0992 - accuracy: 0.9687 - val_loss: 0.0839 - val_accuracy: 0.9752\n",
            "Epoch 7/10\n",
            "1875/1875 [==============================] - 10s 5ms/step - loss: 0.0879 - accuracy: 0.9718 - val_loss: 0.0857 - val_accuracy: 0.9757\n",
            "Epoch 8/10\n",
            "1875/1875 [==============================] - 10s 5ms/step - loss: 0.0836 - accuracy: 0.9733 - val_loss: 0.0800 - val_accuracy: 0.9780\n",
            "Epoch 9/10\n",
            "1875/1875 [==============================] - 9s 5ms/step - loss: 0.0744 - accuracy: 0.9752 - val_loss: 0.0855 - val_accuracy: 0.9756\n",
            "Epoch 10/10\n",
            "1875/1875 [==============================] - 10s 5ms/step - loss: 0.0721 - accuracy: 0.9769 - val_loss: 0.0925 - val_accuracy: 0.9764\n"
          ]
        },
        {
          "output_type": "execute_result",
          "data": {
            "text/plain": [
              "<keras.callbacks.History at 0x7f07c0495090>"
            ]
          },
          "metadata": {},
          "execution_count": 6
        }
      ]
    },
    {
      "cell_type": "code",
      "metadata": {
        "colab": {
          "base_uri": "https://localhost:8080/"
        },
        "id": "xQXO4gxcnnxn",
        "outputId": "0a9391bc-aa35-4d63-9dc2-3cfd354ce7c1"
      },
      "source": [
        "model_3 = Sequential([\n",
        "                    tf.keras.layers.Conv2D(16, kernel_size=(3,3),input_shape = input_shape),\n",
        "                    tf.keras.layers.Flatten(),\n",
        "                    tf.keras.layers.Dense(128, activation=tf.nn.relu),\n",
        "                    tf.keras.layers.Dense(10,activation=tf.nn.softmax)\n",
        "])\n",
        "\n",
        "\n",
        "model_3.compile(optimizer='adam', \n",
        "              loss='sparse_categorical_crossentropy', \n",
        "              metrics=['accuracy'])\n",
        "model_3.fit(x=x_train,y=y_train, epochs=10, validation_data = (x_test,y_test),callbacks = callbacks)"
      ],
      "execution_count": 7,
      "outputs": [
        {
          "output_type": "stream",
          "name": "stdout",
          "text": [
            "Epoch 1/10\n",
            "1875/1875 [==============================] - 10s 5ms/step - loss: 0.2059 - accuracy: 0.9380 - val_loss: 0.1118 - val_accuracy: 0.9649\n",
            "Epoch 2/10\n",
            "1875/1875 [==============================] - 9s 5ms/step - loss: 0.0912 - accuracy: 0.9723 - val_loss: 0.0829 - val_accuracy: 0.9755\n",
            "Epoch 3/10\n",
            "1875/1875 [==============================] - 9s 5ms/step - loss: 0.0616 - accuracy: 0.9802 - val_loss: 0.0816 - val_accuracy: 0.9753\n",
            "Epoch 4/10\n",
            "1875/1875 [==============================] - 9s 5ms/step - loss: 0.0427 - accuracy: 0.9858 - val_loss: 0.0944 - val_accuracy: 0.9736\n",
            "Epoch 5/10\n",
            "1875/1875 [==============================] - 9s 5ms/step - loss: 0.0328 - accuracy: 0.9895 - val_loss: 0.0989 - val_accuracy: 0.9732\n",
            "Epoch 6/10\n",
            "1875/1875 [==============================] - 9s 5ms/step - loss: 0.0249 - accuracy: 0.9915 - val_loss: 0.1029 - val_accuracy: 0.9743\n"
          ]
        },
        {
          "output_type": "execute_result",
          "data": {
            "text/plain": [
              "<keras.callbacks.History at 0x7f07c0117f50>"
            ]
          },
          "metadata": {},
          "execution_count": 7
        }
      ]
    },
    {
      "cell_type": "code",
      "metadata": {
        "colab": {
          "base_uri": "https://localhost:8080/"
        },
        "id": "cN7ZhLPIo8EZ",
        "outputId": "3e11dfd7-5861-4df3-b1d1-abd3d829205b"
      },
      "source": [
        "model_4 = Sequential([\n",
        "                    tf.keras.layers.Conv2D(16, kernel_size=(3,3),input_shape = input_shape),\n",
        "                    tf.keras.layers.Conv2D(32,kernel_size = (3,3)),\n",
        "                    tf.keras.layers.Flatten(),\n",
        "                    tf.keras.layers.Dense(128, activation=tf.nn.relu),\n",
        "                    tf.keras.layers.Dropout(0.2),\n",
        "                    tf.keras.layers.Dense(10,activation=tf.nn.softmax)\n",
        "])\n",
        "\n",
        "\n",
        "model_4.compile(optimizer='adam', \n",
        "              loss='sparse_categorical_crossentropy', \n",
        "              metrics=['accuracy'])\n",
        "model_4.fit(x=x_train,y=y_train, epochs=10, validation_data = (x_test,y_test),callbacks = callbacks)"
      ],
      "execution_count": 8,
      "outputs": [
        {
          "output_type": "stream",
          "name": "stdout",
          "text": [
            "Epoch 1/10\n",
            "1875/1875 [==============================] - 11s 6ms/step - loss: 0.2320 - accuracy: 0.9290 - val_loss: 0.1341 - val_accuracy: 0.9567\n",
            "Epoch 2/10\n",
            "1875/1875 [==============================] - 11s 6ms/step - loss: 0.1321 - accuracy: 0.9601 - val_loss: 0.0877 - val_accuracy: 0.9715\n",
            "Epoch 3/10\n",
            "1875/1875 [==============================] - 11s 6ms/step - loss: 0.1051 - accuracy: 0.9673 - val_loss: 0.0888 - val_accuracy: 0.9727\n",
            "Epoch 4/10\n",
            "1875/1875 [==============================] - 10s 6ms/step - loss: 0.0874 - accuracy: 0.9720 - val_loss: 0.0905 - val_accuracy: 0.9712\n",
            "Epoch 5/10\n",
            "1875/1875 [==============================] - 11s 6ms/step - loss: 0.0732 - accuracy: 0.9762 - val_loss: 0.0953 - val_accuracy: 0.9751\n"
          ]
        },
        {
          "output_type": "execute_result",
          "data": {
            "text/plain": [
              "<keras.callbacks.History at 0x7f0753711210>"
            ]
          },
          "metadata": {},
          "execution_count": 8
        }
      ]
    },
    {
      "cell_type": "code",
      "metadata": {
        "colab": {
          "base_uri": "https://localhost:8080/",
          "height": 583
        },
        "id": "z_65l4pzpXKu",
        "outputId": "91817420-4bd0-4237-aab4-af6200f7cf18"
      },
      "source": [
        "(x_train, y_train), (x_test, y_test) = tf.keras.datasets.cifar10.load_data()\n",
        "\n",
        "# Not all Filters will work on all images, so try a few different images\n",
        "idx = 16\n",
        "\n",
        "# Define the filter matrices \n",
        "Kx = np.array([[1/16, 1/8, 1/16], \n",
        "               [1/8, 1/4, 1/8], \n",
        "               [1/16, 1/8, 1/16]], np.float32)\n",
        "\n",
        "Ky = np.array([[1/16, 1/8, 1/16], \n",
        "               [1/8, 1/4, 1/8], \n",
        "               [1/16, 1/8, 1/16]], np.float32)\n",
        "\n",
        "\n",
        "# You may or may not need 2 directional filters\n",
        "Ix = ndimage.filters.convolve(np.mean(x_train[idx], axis = 2), Kx)\n",
        "Iy = ndimage.filters.convolve(np.mean(x_train[idx], axis = 2), Ky)\n",
        "\n",
        "#Combine Filtered Images\n",
        "G = np.hypot(Ix, Iy)\n",
        "\n",
        "#Plot to combine\n",
        "plt.figure()\n",
        "plt.imshow(x_train[idx], cmap = 'gray')\n",
        "plt.figure()\n",
        "plt.imshow(G, cmap= 'gray')"
      ],
      "execution_count": 9,
      "outputs": [
        {
          "output_type": "stream",
          "name": "stdout",
          "text": [
            "Downloading data from https://www.cs.toronto.edu/~kriz/cifar-10-python.tar.gz\n",
            "170500096/170498071 [==============================] - 6s 0us/step\n",
            "170508288/170498071 [==============================] - 6s 0us/step\n"
          ]
        },
        {
          "output_type": "execute_result",
          "data": {
            "text/plain": [
              "<matplotlib.image.AxesImage at 0x7f075313d950>"
            ]
          },
          "metadata": {},
          "execution_count": 9
        },
        {
          "output_type": "display_data",
          "data": {
            "image/png": "[encoded data removed]",
            "text/plain": [
              "<Figure size 432x288 with 1 Axes>"
            ]
          },
          "metadata": {
            "needs_background": "light"
          }
        },
        {
          "output_type": "display_data",
          "data": {
            "image/png": "[encoded data removed]",
            "text/plain": [
              "<Figure size 432x288 with 1 Axes>"
            ]
          },
          "metadata": {
            "needs_background": "light"
          }
        }
      ]
    }
  ]
}