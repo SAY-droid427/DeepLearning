{
  "nbformat": 4,
  "nbformat_minor": 0,
  "metadata": {
    "colab": {
      "name": "Untitled13.ipynb",
      "provenance": []
    },
    "kernelspec": {
      "display_name": "Python 3",
      "name": "python3"
    },
    "language_info": {
      "name": "python"
    }
  },
  "cells": [
    {
      "cell_type": "markdown",
      "metadata": {
        "id": "OV1I0wyxXTZW"
      },
      "source": [
        "## MNIST dataset"
      ]
    },
    {
      "cell_type": "code",
      "metadata": {
        "id": "vfb4tXqCXWQG"
      },
      "source": [
        "import numpy as np\n",
        "import matplotlib.pyplot as plt\n",
        "import tensorflow as tf\n",
        "import random"
      ],
      "execution_count": 1,
      "outputs": []
    },
    {
      "cell_type": "code",
      "metadata": {
        "colab": {
          "base_uri": "https://localhost:8080/",
          "height": 369
        },
        "id": "oQa5_IaVXk-l",
        "outputId": "e110a16d-8cc6-49f2-e6ba-c88ddcf43920"
      },
      "source": [
        "# Loading MNIST from keras\n",
        "(x_train, y_train), (x_test, y_test) = tf.keras.datasets.mnist.load_data()\n",
        "\n",
        "# Printing a random sample\n",
        "print(x_train.shape)\n",
        "b = random.randint(0, x_train.shape[0])\n",
        "plt.figure()\n",
        "plt.title(\"Label: \" + str(y_train[b]))\n",
        "plt.imshow(x_train[b],cmap = 'gray')\n",
        "\n",
        "Input = []\n",
        "Expected_Output = []\n",
        "# Keeping only 0 and 1\n",
        "for i in range(6000):\n",
        "  if y_train[i] <= 1:\n",
        "    Input.append(x_train[i])\n",
        "    Expected_Output.append(y_train[i])\n",
        "\n",
        "# Reshaping for 1D input vector\n",
        "Input = np.array(Input).reshape(-1, 28*28)\n",
        "Input = Input / np.linalg.norm(Input, axis = 0)\n",
        "Expected_Output = np.array(Expected_Output)\n",
        "print(Input.shape)\n",
        "print(Expected_Output.shape)"
      ],
      "execution_count": 13,
      "outputs": [
        {
          "output_type": "stream",
          "name": "stdout",
          "text": [
            "(60000, 28, 28)\n",
            "(1263, 784)\n",
            "(1263,)\n"
          ]
        },
        {
          "output_type": "stream",
          "name": "stderr",
          "text": [
            "/usr/local/lib/python3.7/dist-packages/ipykernel_launcher.py:21: RuntimeWarning: invalid value encountered in true_divide\n"
          ]
        },
        {
          "output_type": "display_data",
          "data": {
            "image/png": "[encoded data removed]",
            "text/plain": [
              "<Figure size 432x288 with 1 Axes>"
            ]
          },
          "metadata": {
            "needs_background": "light"
          }
        }
      ]
    },
    {
      "cell_type": "code",
      "metadata": {
        "colab": {
          "base_uri": "https://localhost:8080/",
          "height": 295
        },
        "id": "sI3vUq_Q3YrS",
        "outputId": "ef4047d4-017e-4ef8-b5e5-6bc61255734b"
      },
      "source": [
        "# Initial Weights\n",
        "Weights = np.random.randn(784)\n",
        "bias = random.random()\n",
        "\n",
        "# Number of times to iterate through all training samples and update the weights\n",
        "num_iters = 1000\n",
        "threshold = 0\n",
        "history = []\n",
        "lr = 0.01\n",
        "\n",
        "# Training\n",
        "\n",
        "for _ in range(num_iters):\n",
        "  history.append(0)\n",
        "  for i in range(len(Input)):\n",
        "\n",
        "    # Calculating output with current weights\n",
        "    sum = np.dot(Input[i],Weights) + bias\n",
        "    Calculated_Output = sum > threshold\n",
        "\n",
        "    # Calculating error\n",
        "    Error = Expected_Output[i] - Calculated_Output\n",
        "\n",
        "    # Keeping a history of error\n",
        "    history[-1] += abs(Error)\n",
        "\n",
        "    # Updating weights\n",
        "    Weights = Weights + lr*Error*Input[i]\n",
        "    bias = bias + lr*Error\n",
        "\n",
        "# Checking Final Output\n",
        "Final_Output = np.zeros(len(Input))\n",
        "\n",
        "for i in range(len(Input)):\n",
        "  sum = np.dot(Input[i],Weights)\n",
        "  Calculated_Output = sum > threshold\n",
        "  Final_Output[i] = Calculated_Output\n",
        "\n",
        "plt.plot(history)\n",
        "plt.title(\"Error vs Iterations\")\n",
        "plt.xlabel(\"Iteration no.\")\n",
        "plt.ylabel(\"Error\")\n",
        "plt.show()"
      ],
      "execution_count": 16,
      "outputs": [
        {
          "output_type": "display_data",
          "data": {
            "image/png": "[encoded data removed]",
            "text/plain": [
              "<Figure size 432x288 with 1 Axes>"
            ]
          },
          "metadata": {
            "needs_background": "light"
          }
        }
      ]
    }
  ]
}