{
  "nbformat": 4,
  "nbformat_minor": 0,
  "metadata": {
    "colab": {
      "provenance": [],
      "collapsed_sections": []
    },
    "kernelspec": {
      "name": "python3",
      "display_name": "Python 3"
    },
    "language_info": {
      "name": "python"
    },
    "accelerator": "GPU"
  },
  "cells": [
    {
      "cell_type": "markdown",
      "source": [
        "# Image Classification With Convolutional Neural networks"
      ],
      "metadata": {
        "id": "Q2IKpXlclAni"
      }
    },
    {
      "cell_type": "code",
      "execution_count": null,
      "metadata": {
        "id": "18xQOiO_k6Av"
      },
      "outputs": [],
      "source": [
        "import tensorflow as tf\n",
        "from tensorflow import keras\n",
        "from keras import datasets, layers, models\n",
        "import numpy as np\n",
        "import pandas as pd\n",
        "import matplotlib.pyplot as plt"
      ]
    },
    {
      "cell_type": "code",
      "source": [
        "(X_train, y_train),(X_test, y_test) = datasets.cifar10.load_data()\n",
        "X_train.shape"
      ],
      "metadata": {
        "colab": {
          "base_uri": "https://localhost:8080/"
        },
        "id": "7hD4JU1slhU-",
        "outputId": "047e403e-f1d6-4f4c-b7c6-acd14283d1f0"
      },
      "execution_count": null,
      "outputs": [
        {
          "output_type": "stream",
          "name": "stdout",
          "text": [
            "Downloading data from https://www.cs.toronto.edu/~kriz/cifar-10-python.tar.gz\n",
            "170500096/170498071 [==============================] - 2s 0us/step\n",
            "170508288/170498071 [==============================] - 2s 0us/step\n"
          ]
        },
        {
          "output_type": "execute_result",
          "data": {
            "text/plain": [
              "(50000, 32, 32, 3)"
            ]
          },
          "metadata": {},
          "execution_count": 4
        }
      ]
    },
    {
      "cell_type": "code",
      "source": [
        "X_test.shape"
      ],
      "metadata": {
        "colab": {
          "base_uri": "https://localhost:8080/"
        },
        "id": "iJKf5fIMleLW",
        "outputId": "e90e5c27-0b22-4b92-9b06-4b65d32b8de9"
      },
      "execution_count": null,
      "outputs": [
        {
          "output_type": "execute_result",
          "data": {
            "text/plain": [
              "(10000, 32, 32, 3)"
            ]
          },
          "metadata": {},
          "execution_count": 5
        }
      ]
    },
    {
      "cell_type": "code",
      "source": [
        "X_train[0]"
      ],
      "metadata": {
        "colab": {
          "base_uri": "https://localhost:8080/"
        },
        "id": "p6X_sJb3l-q2",
        "outputId": "d6f19d12-6888-4c8e-c141-71f0bbb33023"
      },
      "execution_count": null,
      "outputs": [
        {
          "output_type": "execute_result",
          "data": {
            "text/plain": [
              "array([[[ 59,  62,  63],\n",
              "        [ 43,  46,  45],\n",
              "        [ 50,  48,  43],\n",
              "        ...,\n",
              "        [158, 132, 108],\n",
              "        [152, 125, 102],\n",
              "        [148, 124, 103]],\n",
              "\n",
              "       [[ 16,  20,  20],\n",
              "        [  0,   0,   0],\n",
              "        [ 18,   8,   0],\n",
              "        ...,\n",
              "        [123,  88,  55],\n",
              "        [119,  83,  50],\n",
              "        [122,  87,  57]],\n",
              "\n",
              "       [[ 25,  24,  21],\n",
              "        [ 16,   7,   0],\n",
              "        [ 49,  27,   8],\n",
              "        ...,\n",
              "        [118,  84,  50],\n",
              "        [120,  84,  50],\n",
              "        [109,  73,  42]],\n",
              "\n",
              "       ...,\n",
              "\n",
              "       [[208, 170,  96],\n",
              "        [201, 153,  34],\n",
              "        [198, 161,  26],\n",
              "        ...,\n",
              "        [160, 133,  70],\n",
              "        [ 56,  31,   7],\n",
              "        [ 53,  34,  20]],\n",
              "\n",
              "       [[180, 139,  96],\n",
              "        [173, 123,  42],\n",
              "        [186, 144,  30],\n",
              "        ...,\n",
              "        [184, 148,  94],\n",
              "        [ 97,  62,  34],\n",
              "        [ 83,  53,  34]],\n",
              "\n",
              "       [[177, 144, 116],\n",
              "        [168, 129,  94],\n",
              "        [179, 142,  87],\n",
              "        ...,\n",
              "        [216, 184, 140],\n",
              "        [151, 118,  84],\n",
              "        [123,  92,  72]]], dtype=uint8)"
            ]
          },
          "metadata": {},
          "execution_count": 7
        }
      ]
    },
    {
      "cell_type": "code",
      "source": [
        "plt.imshow(X_train[0])"
      ],
      "metadata": {
        "colab": {
          "base_uri": "https://localhost:8080/",
          "height": 283
        },
        "id": "_oTGm-pqmV0p",
        "outputId": "79b803da-f009-4aff-e173-5fdeff8ebee1"
      },
      "execution_count": null,
      "outputs": [
        {
          "output_type": "execute_result",
          "data": {
            "text/plain": [
              "<matplotlib.image.AxesImage at 0x7f3400b402d0>"
            ]
          },
          "metadata": {},
          "execution_count": 8
        },
        {
          "output_type": "display_data",
          "data": {
            "image/png": "[encoded data removed]",
            "text/plain": [
              "<Figure size 432x288 with 1 Axes>"
            ]
          },
          "metadata": {
            "needs_background": "light"
          }
        }
      ]
    },
    {
      "cell_type": "code",
      "source": [
        "y_train.shape"
      ],
      "metadata": {
        "colab": {
          "base_uri": "https://localhost:8080/"
        },
        "id": "elw1yyLGnGkz",
        "outputId": "06548fed-277c-4342-a2fc-0dd2f3886355"
      },
      "execution_count": null,
      "outputs": [
        {
          "output_type": "execute_result",
          "data": {
            "text/plain": [
              "(50000, 1)"
            ]
          },
          "metadata": {},
          "execution_count": 10
        }
      ]
    },
    {
      "cell_type": "code",
      "source": [
        "y_train = y_train.reshape(-1,)\n",
        "y_train[:5]"
      ],
      "metadata": {
        "colab": {
          "base_uri": "https://localhost:8080/"
        },
        "id": "veT5Bd4vnBWr",
        "outputId": "dc2782a9-3efb-40b5-ea6b-2223cced4e37"
      },
      "execution_count": null,
      "outputs": [
        {
          "output_type": "execute_result",
          "data": {
            "text/plain": [
              "array([6, 9, 9, 4, 1], dtype=uint8)"
            ]
          },
          "metadata": {},
          "execution_count": 12
        }
      ]
    },
    {
      "cell_type": "code",
      "source": [
        "classes = ['airplane', 'automobile','bird','cat','deer','dog','frog','horse','ship','truck']"
      ],
      "metadata": {
        "id": "4-KcuG_AmwCS"
      },
      "execution_count": null,
      "outputs": []
    },
    {
      "cell_type": "code",
      "source": [
        "def plot_sample(X, y, index):\n",
        "  plt.figure(figsize=(15,2))\n",
        "  plt.imshow(X[index])\n",
        "  plt.xlabel(classes[y[index]])"
      ],
      "metadata": {
        "id": "jrsPWWmfmd2J"
      },
      "execution_count": null,
      "outputs": []
    },
    {
      "cell_type": "code",
      "source": [
        "plot_sample(X_train, y_train, 7)"
      ],
      "metadata": {
        "colab": {
          "base_uri": "https://localhost:8080/",
          "height": 173
        },
        "id": "qnDMc4LYnWz5",
        "outputId": "d0e491a3-9e0c-4dd0-e305-c22fc6a3e5f9"
      },
      "execution_count": null,
      "outputs": [
        {
          "output_type": "display_data",
          "data": {
            "image/png": "[encoded data removed]",
            "text/plain": [
              "<Figure size 1080x144 with 1 Axes>"
            ]
          },
          "metadata": {
            "needs_background": "light"
          }
        }
      ]
    },
    {
      "cell_type": "markdown",
      "source": [
        "### Normalization of data"
      ],
      "metadata": {
        "id": "lLkwTe9bnb4e"
      }
    },
    {
      "cell_type": "code",
      "source": [
        "X_train = X_train/255\n",
        "X_test = X_test/255"
      ],
      "metadata": {
        "id": "X-NZsz-ene_Z"
      },
      "execution_count": null,
      "outputs": []
    },
    {
      "cell_type": "markdown",
      "source": [
        "## Creating an artificial neural network for comparison with convolutional neural network"
      ],
      "metadata": {
        "id": "zFwW-mwCo-6x"
      }
    },
    {
      "cell_type": "code",
      "source": [
        "ann = models.Sequential([\n",
        "                         layers.Flatten(input_shape=(32,32,3)),\n",
        "                         layers.Dense(3000, activation='relu'),\n",
        "                         layers.Dense(1000, activation='relu'),\n",
        "                         layers.Dense(10, activation='sigmoid')\n",
        "])\n",
        "\n",
        "ann.compile(optimizer='SGD', loss='sparse_categorical_crossentropy', metrics=['accuracy'])\n",
        "ann.fit(X_train, y_train, epochs=5)"
      ],
      "metadata": {
        "colab": {
          "base_uri": "https://localhost:8080/"
        },
        "id": "qR46VhIOnwYB",
        "outputId": "50426715-c41a-4df8-9c22-c32feb377bef"
      },
      "execution_count": null,
      "outputs": [
        {
          "output_type": "stream",
          "name": "stdout",
          "text": [
            "Epoch 1/5\n",
            "1563/1563 [==============================] - 13s 7ms/step - loss: 1.8109 - accuracy: 0.3533\n",
            "Epoch 2/5\n",
            "1563/1563 [==============================] - 11s 7ms/step - loss: 1.6241 - accuracy: 0.4255\n",
            "Epoch 3/5\n",
            "1563/1563 [==============================] - 11s 7ms/step - loss: 1.5438 - accuracy: 0.4548\n",
            "Epoch 4/5\n",
            "1563/1563 [==============================] - 11s 7ms/step - loss: 1.4834 - accuracy: 0.4772\n",
            "Epoch 5/5\n",
            "1563/1563 [==============================] - 11s 7ms/step - loss: 1.4343 - accuracy: 0.4950\n"
          ]
        },
        {
          "output_type": "execute_result",
          "data": {
            "text/plain": [
              "<keras.callbacks.History at 0x7f33f0103150>"
            ]
          },
          "metadata": {},
          "execution_count": 17
        }
      ]
    },
    {
      "cell_type": "code",
      "source": [
        "ann.evaluate(X_test, y_test)"
      ],
      "metadata": {
        "colab": {
          "base_uri": "https://localhost:8080/"
        },
        "id": "ozA0WY1gpNEQ",
        "outputId": "52b3faf9-d428-4571-f789-a910cc030691"
      },
      "execution_count": null,
      "outputs": [
        {
          "output_type": "stream",
          "name": "stdout",
          "text": [
            "313/313 [==============================] - 2s 5ms/step - loss: 1.4940 - accuracy: 0.4690\n"
          ]
        },
        {
          "output_type": "execute_result",
          "data": {
            "text/plain": [
              "[1.4940121173858643, 0.4690000116825104]"
            ]
          },
          "metadata": {},
          "execution_count": 18
        }
      ]
    },
    {
      "cell_type": "markdown",
      "source": [
        "## Building the convolutional neural network"
      ],
      "metadata": {
        "id": "9V8gycHwpYHM"
      }
    },
    {
      "cell_type": "code",
      "source": [
        "cnn = models.Sequential([\n",
        "                 layers.Conv2D(filters=32, kernel_size=(3,3), activation='relu', input_shape=(32,32,3)),\n",
        "                 layers.MaxPooling2D((2,2)),\n",
        "                 layers.Conv2D(filters=32, kernel_size=(3,3), activation='relu', input_shape=(32,32,3)),\n",
        "                 layers.MaxPooling2D((2,2)),\n",
        "                 layers.Flatten(input_shape=(32,32,3)),\n",
        "                 layers.Dense(3000, activation='relu'),\n",
        "                 layers.Dense(1000, activation='relu'),\n",
        "                 layers.Dense(10,activation='softmax')   \n",
        "])\n",
        "\n",
        "cnn.compile(optimizer='adam',loss='sparse_categorical_crossentropy',metrics=['accuracy'])\n",
        "cnn.fit(X_train, y_train, epochs=25)"
      ],
      "metadata": {
        "colab": {
          "base_uri": "https://localhost:8080/"
        },
        "id": "6bsuE3hIpXfh",
        "outputId": "8488e5fe-411d-4e3f-a4b3-285ef877ac94"
      },
      "execution_count": null,
      "outputs": [
        {
          "output_type": "stream",
          "name": "stdout",
          "text": [
            "Epoch 1/25\n",
            "1563/1563 [==============================] - 17s 10ms/step - loss: 1.3601 - accuracy: 0.5078\n",
            "Epoch 2/25\n",
            "1563/1563 [==============================] - 15s 10ms/step - loss: 0.9648 - accuracy: 0.6622\n",
            "Epoch 3/25\n",
            "1563/1563 [==============================] - 14s 9ms/step - loss: 0.7351 - accuracy: 0.7405\n",
            "Epoch 4/25\n",
            "1563/1563 [==============================] - 15s 9ms/step - loss: 0.5298 - accuracy: 0.8133\n",
            "Epoch 5/25\n",
            "1563/1563 [==============================] - 14s 9ms/step - loss: 0.3404 - accuracy: 0.8797\n",
            "Epoch 6/25\n",
            "1563/1563 [==============================] - 14s 9ms/step - loss: 0.2091 - accuracy: 0.9267\n",
            "Epoch 7/25\n",
            "1563/1563 [==============================] - 14s 9ms/step - loss: 0.1535 - accuracy: 0.9464\n",
            "Epoch 8/25\n",
            "1563/1563 [==============================] - 14s 9ms/step - loss: 0.1178 - accuracy: 0.9599\n",
            "Epoch 9/25\n",
            "1563/1563 [==============================] - 14s 9ms/step - loss: 0.1116 - accuracy: 0.9621\n",
            "Epoch 10/25\n",
            "1563/1563 [==============================] - 14s 9ms/step - loss: 0.0955 - accuracy: 0.9685\n",
            "Epoch 11/25\n",
            "1563/1563 [==============================] - 14s 9ms/step - loss: 0.0875 - accuracy: 0.9717\n",
            "Epoch 12/25\n",
            "1563/1563 [==============================] - 14s 9ms/step - loss: 0.0757 - accuracy: 0.9754\n",
            "Epoch 13/25\n",
            "1563/1563 [==============================] - 14s 9ms/step - loss: 0.0823 - accuracy: 0.9733\n",
            "Epoch 14/25\n",
            "1563/1563 [==============================] - 14s 9ms/step - loss: 0.0754 - accuracy: 0.9766\n",
            "Epoch 15/25\n",
            "1563/1563 [==============================] - 14s 9ms/step - loss: 0.0677 - accuracy: 0.9787\n",
            "Epoch 16/25\n",
            "1563/1563 [==============================] - 14s 9ms/step - loss: 0.0713 - accuracy: 0.9777\n",
            "Epoch 17/25\n",
            "1563/1563 [==============================] - 14s 9ms/step - loss: 0.0630 - accuracy: 0.9810\n",
            "Epoch 18/25\n",
            "1563/1563 [==============================] - 14s 9ms/step - loss: 0.0634 - accuracy: 0.9805\n",
            "Epoch 19/25\n",
            "1563/1563 [==============================] - 14s 9ms/step - loss: 0.0613 - accuracy: 0.9816\n",
            "Epoch 20/25\n",
            "1563/1563 [==============================] - 14s 9ms/step - loss: 0.0627 - accuracy: 0.9808\n",
            "Epoch 21/25\n",
            "1563/1563 [==============================] - 14s 9ms/step - loss: 0.0536 - accuracy: 0.9839\n",
            "Epoch 22/25\n",
            "1563/1563 [==============================] - 14s 9ms/step - loss: 0.0636 - accuracy: 0.9815\n",
            "Epoch 23/25\n",
            "1563/1563 [==============================] - 14s 9ms/step - loss: 0.0605 - accuracy: 0.9830\n",
            "Epoch 24/25\n",
            "1563/1563 [==============================] - 14s 9ms/step - loss: 0.0510 - accuracy: 0.9841\n",
            "Epoch 25/25\n",
            "1563/1563 [==============================] - 14s 9ms/step - loss: 0.0552 - accuracy: 0.9845\n"
          ]
        },
        {
          "output_type": "execute_result",
          "data": {
            "text/plain": [
              "<keras.callbacks.History at 0x7f338646ab10>"
            ]
          },
          "metadata": {},
          "execution_count": 22
        }
      ]
    },
    {
      "cell_type": "code",
      "source": [
        "cnn.evaluate(X_test, y_test)"
      ],
      "metadata": {
        "colab": {
          "base_uri": "https://localhost:8080/"
        },
        "id": "5xqRyb5pt96y",
        "outputId": "14d91d2a-22ca-4750-a65a-1ee149009a19"
      },
      "execution_count": null,
      "outputs": [
        {
          "output_type": "stream",
          "name": "stdout",
          "text": [
            "313/313 [==============================] - 2s 5ms/step - loss: 2.6553 - accuracy: 0.6909\n"
          ]
        },
        {
          "output_type": "execute_result",
          "data": {
            "text/plain": [
              "[2.655273199081421, 0.6909000277519226]"
            ]
          },
          "metadata": {},
          "execution_count": 23
        }
      ]
    }
  ]
}