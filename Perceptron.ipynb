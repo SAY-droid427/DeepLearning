{
  "nbformat": 4,
  "nbformat_minor": 0,
  "metadata": {
    "colab": {
      "name": "Untitled12.ipynb",
      "provenance": [],
      "collapsed_sections": []
    },
    "kernelspec": {
      "name": "python3",
      "display_name": "Python 3"
    },
    "language_info": {
      "name": "python"
    }
  },
  "cells": [
    {
      "cell_type": "code",
      "metadata": {
        "id": "wAKY1Mz-_9Px"
      },
      "source": [
        "import numpy as np\n",
        "import matplotlib.pyplot as plt"
      ],
      "execution_count": 1,
      "outputs": []
    },
    {
      "cell_type": "code",
      "metadata": {
        "colab": {
          "base_uri": "https://localhost:8080/"
        },
        "id": "EP5gkIF7AJJT",
        "outputId": "ded14524-7fe4-4331-895d-6bd5779e5075"
      },
      "source": [
        "input = [1,2,3,4]\n",
        "print(\"A row vector representation {}:\\n{}\\n\".format(type(input),input))\n",
        "\n",
        "row_vector = np.array(input)\n",
        "print(\"A row vector representation {}:\\n{}\\n\".format(type(row_vector),row_vector))\n",
        "\n",
        "col_vector = row_vector.reshape(-1,1)\n",
        "print(\"A column vector representation {}:\\n{}\\n\".format(type(col_vector),col_vector))\n",
        "\n",
        "weight = np.random.randn(row_vector.shape[0])\n",
        "print(\"The weight vector {}:\\n{}\\n\".format(type(weight),weight))\n",
        "\n",
        "sum = np.dot(row_vector,weight)\n",
        "print(\"The summed vector is {}:\\n{}\\n\".format(type(sum),sum))"
      ],
      "execution_count": 7,
      "outputs": [
        {
          "output_type": "stream",
          "name": "stdout",
          "text": [
            "A row vector representation <class 'list'>:\n",
            "[1, 2, 3, 4]\n",
            "\n",
            "A row vector representation <class 'numpy.ndarray'>:\n",
            "[1 2 3 4]\n",
            "\n",
            "A column vector representation <class 'numpy.ndarray'>:\n",
            "[[1]\n",
            " [2]\n",
            " [3]\n",
            " [4]]\n",
            "\n",
            "The weight vector <class 'numpy.ndarray'>:\n",
            "[ 1.17936786  0.02247356 -1.27747402 -0.94384489]\n",
            "\n",
            "The summed vector is <class 'numpy.float64'>:\n",
            "-6.383486661578077\n",
            "\n"
          ]
        }
      ]
    },
    {
      "cell_type": "markdown",
      "metadata": {
        "id": "pqwXb7uCCAs5"
      },
      "source": [
        "Sample Perceptron"
      ]
    },
    {
      "cell_type": "code",
      "metadata": {
        "colab": {
          "base_uri": "https://localhost:8080/"
        },
        "id": "4kCYJM7IB-2Y",
        "outputId": "59730d41-06f0-4aae-c2ac-220023725fed"
      },
      "source": [
        "# All possible binary input for a 3 input majority gate\n",
        "Input = np.array([[0,0,0],\n",
        "                  [0,0,1],\n",
        "                  [0,1,0],\n",
        "                  [0,1,1],\n",
        "                  [1,0,0],\n",
        "                  [1,0,1],\n",
        "                  [1,1,0],\n",
        "                  [1,1,1]])\n",
        "\n",
        "Expected_Output = np.array([0,0,0,1,0,1,1,1])\n",
        "\n",
        "Weights = np.array([1,1,1])\n",
        "threshold = 1\n",
        "\n",
        "Final_Output = np.zeros(len(Input))\n",
        "\n",
        "for i in range(len(Input)):\n",
        "  sum = np.dot(Input[i],Weights)\n",
        "  Calculated_Output = sum > threshold\n",
        "  Final_Output[i] = Calculated_Output\n",
        "\n",
        "print(Final_Output == Expected_Output)\n",
        "print(Final_Output)"
      ],
      "execution_count": 8,
      "outputs": [
        {
          "output_type": "stream",
          "name": "stdout",
          "text": [
            "[ True  True  True  True  True  True  True  True]\n",
            "[0. 0. 0. 1. 0. 1. 1. 1.]\n"
          ]
        }
      ]
    },
    {
      "cell_type": "code",
      "metadata": {
        "colab": {
          "base_uri": "https://localhost:8080/"
        },
        "id": "HX2G9uZWFD8P",
        "outputId": "2ebb7532-478c-4d3c-e8eb-4c2bd07e83cb"
      },
      "source": [
        "# All possible binary input for the expression : AB'C'\n",
        "Input = np.array([[0,0,0],\n",
        "                  [0,0,1],\n",
        "                  [0,1,0],\n",
        "                  [0,1,1],\n",
        "                  [1,0,0],\n",
        "                  [1,0,1],\n",
        "                  [1,1,0],\n",
        "                  [1,1,1]])\n",
        "Expected_Output = np.array([0,0,0,0,1,0,0,0])\n",
        "\n",
        "Weights = np.array([1,-1,-1])\n",
        "threshold = 0\n",
        "\n",
        "for i in range(len(Input)):\n",
        "  sum = np.dot(Input[i],Weights)\n",
        "  Calculated_Output = sum > threshold\n",
        "  Final_Output[i] = Calculated_Output\n",
        "\n",
        "print(Final_Output == Expected_Output)\n",
        "print(Final_Output)"
      ],
      "execution_count": 9,
      "outputs": [
        {
          "output_type": "stream",
          "name": "stdout",
          "text": [
            "[ True  True  True  True  True  True  True  True]\n",
            "[0. 0. 0. 0. 1. 0. 0. 0.]\n"
          ]
        }
      ]
    },
    {
      "cell_type": "code",
      "metadata": {
        "colab": {
          "base_uri": "https://localhost:8080/"
        },
        "id": "py--FNhMGZxo",
        "outputId": "744fe636-da91-439f-a4e4-9802bd21a91d"
      },
      "source": [
        "# AND Gate Implementation\n",
        "Input = np.array([[0,0,0],\n",
        "                  [0,0,1],\n",
        "                  [0,1,0],\n",
        "                  [0,1,1],\n",
        "                  [1,0,0],\n",
        "                  [1,0,1],\n",
        "                  [1,1,0],\n",
        "                  [1,1,1]])\n",
        "\n",
        "Expected_Output = np.array([0,0,0,0,0,0,0,1])\n",
        "Weights = np.array([1,1,1])\n",
        "threshold = 2\n",
        "\n",
        "Final_Output = np.zeros(len(Input))\n",
        "for i in range(len(Input)):\n",
        "  sum = np.dot(Input[i],Weights)\n",
        "  Calculated_Output = sum > threshold\n",
        "  Final_Output[i] = Calculated_Output\n",
        "\n",
        "print(Final_Output == Expected_Output)\n",
        "print(Final_Output) "
      ],
      "execution_count": 10,
      "outputs": [
        {
          "output_type": "stream",
          "name": "stdout",
          "text": [
            "[ True  True  True  True  True  True  True  True]\n",
            "[0. 0. 0. 0. 0. 0. 0. 1.]\n"
          ]
        }
      ]
    },
    {
      "cell_type": "markdown",
      "metadata": {
        "id": "70wO0pmGHwSa"
      },
      "source": [
        "## Learning Algorithm"
      ]
    },
    {
      "cell_type": "code",
      "metadata": {
        "colab": {
          "base_uri": "https://localhost:8080/"
        },
        "id": "Q95NtdGQH5EW",
        "outputId": "d3c64895-6fbb-4d29-ffbc-962a304b7fce"
      },
      "source": [
        "# All possible binary input for a 2 input OR gate with X0 representing bias\n",
        "Input = np.array([[1,0,0],\n",
        "                  [1,0,1],\n",
        "                  [1,1,0],\n",
        "                  [1,1,1]])\n",
        "\n",
        "Expected_Output = np.array([0,1,1,1])\n",
        "\n",
        "Weights = np.array([0,0,0])\n",
        "\n",
        "# Number of times to iterate through all training samples and update the weights\n",
        "num_iters = 10\n",
        "threshold = 0\n",
        "history = []\n",
        "\n",
        "for _ in range(num_iters):\n",
        "  history.append(0)\n",
        "  for i in range(len(Input)):\n",
        "    sum = np.dot(Input[i],Weights)\n",
        "    Calculated_Output = sum > threshold\n",
        "    Error = Expected_Output[i] - Calculated_Output\n",
        "\n",
        "    history[-1] += abs(Error)\n",
        "    Weights = Weights + Error*Input[i]\n",
        "\n",
        "Final_Output = np.zeros(len(Input))\n",
        "\n",
        "for i in range(len(Input)):\n",
        "  sum = np.dot(Input[i],Weights)\n",
        "  Calculated_Output = sum > threshold\n",
        "  Final_Output[i] = Calculated_Output\n",
        "\n",
        "print(Final_Output == Expected_Output)\n"
      ],
      "execution_count": 11,
      "outputs": [
        {
          "output_type": "stream",
          "name": "stdout",
          "text": [
            "[ True  True  True  True]\n"
          ]
        }
      ]
    },
    {
      "cell_type": "code",
      "metadata": {
        "colab": {
          "base_uri": "https://localhost:8080/",
          "height": 295
        },
        "id": "r1LL75DpQT-N",
        "outputId": "f7eb96de-699d-42a9-920f-4896d3b9c3b3"
      },
      "source": [
        "plt.plot(history)\n",
        "plt.title(\"Error vs Iteration\")\n",
        "plt.xlabel(\"Iteration no.\")\n",
        "plt.ylabel(\"Error\")\n",
        "plt.show()"
      ],
      "execution_count": 12,
      "outputs": [
        {
          "output_type": "display_data",
          "data": {
            "image/png": "[encoded data removed]",
            "text/plain": [
              "<Figure size 432x288 with 1 Axes>"
            ]
          },
          "metadata": {
            "needs_background": "light"
          }
        }
      ]
    },
    {
      "cell_type": "markdown",
      "metadata": {
        "id": "PdEMQ40PRIhC"
      },
      "source": [
        "## Perceptron for AND Gate Implementation"
      ]
    },
    {
      "cell_type": "code",
      "metadata": {
        "colab": {
          "base_uri": "https://localhost:8080/"
        },
        "id": "5BrXzR7lROvf",
        "outputId": "a1dcab28-4a77-4eb4-9412-54272c8be3e5"
      },
      "source": [
        "Input = np.array([[1,0,0],\n",
        "                  [1,0,1],\n",
        "                  [1,1,0],\n",
        "                  [1,1,1]])\n",
        "\n",
        "Expected_Output = np.array([0,0,0,1])\n",
        "\n",
        "Weights = np.array([0,0,0])\n",
        "\n",
        "num_iters = 10\n",
        "history = []\n",
        "threshold = 2\n",
        "\n",
        "for _ in range(num_iters):\n",
        "  history.append(0)\n",
        "  for i in range(len(Input)):\n",
        "    sum = np.dot(Input[i], Weights)\n",
        "    Calculated_Output = sum > threshold\n",
        "    Error = Expected_Output[i] - Calculated_Output\n",
        "    history[-1]+=abs(Error)\n",
        "    Weights = Weights + Error*Input[i]\n",
        "    \n",
        "Final_Output = np.zeros(len(Input))\n",
        "\n",
        "for i in range(len(Input)):\n",
        "  sum = np.dot(Input[i],Weights)\n",
        "  Calculated_Output = sum > threshold\n",
        "  Final_Output[i] = Calculated_Output\n",
        "\n",
        "print(Final_Output == Expected_Output)"
      ],
      "execution_count": 13,
      "outputs": [
        {
          "output_type": "stream",
          "name": "stdout",
          "text": [
            "[ True  True  True  True]\n"
          ]
        }
      ]
    },
    {
      "cell_type": "code",
      "metadata": {
        "colab": {
          "base_uri": "https://localhost:8080/",
          "height": 295
        },
        "id": "MORmlPnmTCOB",
        "outputId": "a416ff30-f5b8-4618-c5b8-a5d06d074a89"
      },
      "source": [
        "plt.plot(history)\n",
        "plt.title(\"Error vs Iteration\")\n",
        "plt.xlabel(\"Iteration no. \")\n",
        "plt.ylabel(\"Error\")\n",
        "plt.show()"
      ],
      "execution_count": 14,
      "outputs": [
        {
          "output_type": "display_data",
          "data": {
            "image/png": "[encoded data removed]",
            "text/plain": [
              "<Figure size 432x288 with 1 Axes>"
            ]
          },
          "metadata": {
            "needs_background": "light"
          }
        }
      ]
    }
  ]
}