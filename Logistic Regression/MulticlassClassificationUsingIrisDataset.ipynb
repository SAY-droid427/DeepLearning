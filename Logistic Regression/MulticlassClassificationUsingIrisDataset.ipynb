{
  "nbformat": 4,
  "nbformat_minor": 0,
  "metadata": {
    "colab": {
      "name": "Untitled24.ipynb",
      "provenance": []
    },
    "kernelspec": {
      "name": "python3",
      "display_name": "Python 3"
    },
    "language_info": {
      "name": "python"
    }
  },
  "cells": [
    {
      "cell_type": "markdown",
      "source": [
        "## Multiclass Classification using Logistic Regression with iris datset"
      ],
      "metadata": {
        "id": "bBsUNxhectQc"
      }
    },
    {
      "cell_type": "code",
      "source": [
        "import pandas as pd\n",
        "import matplotlib.pyplot as plt\n",
        "import numpy as np"
      ],
      "metadata": {
        "id": "sapQDRXkc8d4"
      },
      "execution_count": 1,
      "outputs": []
    },
    {
      "cell_type": "code",
      "source": [
        "from sklearn.datasets import load_iris\n",
        "iris = load_iris()"
      ],
      "metadata": {
        "id": "5PL1SSjvd92n"
      },
      "execution_count": 2,
      "outputs": []
    },
    {
      "cell_type": "code",
      "source": [
        "plt.gray()\n",
        "dir(iris)\n",
        "iris.target_names"
      ],
      "metadata": {
        "colab": {
          "base_uri": "https://localhost:8080/",
          "height": 51
        },
        "id": "zWHAAJYAeTOt",
        "outputId": "ad47ae1a-7934-4dbf-a172-de891d427b07"
      },
      "execution_count": 9,
      "outputs": [
        {
          "output_type": "execute_result",
          "data": {
            "text/plain": [
              "array(['setosa', 'versicolor', 'virginica'], dtype='<U10')"
            ]
          },
          "metadata": {},
          "execution_count": 9
        },
        {
          "output_type": "display_data",
          "data": {
            "text/plain": [
              "<Figure size 432x288 with 0 Axes>"
            ]
          },
          "metadata": {}
        }
      ]
    },
    {
      "cell_type": "code",
      "source": [
        "from sklearn.model_selection import train_test_split\n",
        "X_train, X_test, y_train, y_test = train_test_split(iris.data, iris.target, test_size = 0.2)\n",
        "X_train"
      ],
      "metadata": {
        "colab": {
          "base_uri": "https://localhost:8080/"
        },
        "id": "8PJMGVIIeuFz",
        "outputId": "8b584a3c-2cd6-4551-d34d-4c8f25d51863"
      },
      "execution_count": 11,
      "outputs": [
        {
          "output_type": "execute_result",
          "data": {
            "text/plain": [
              "array([[4.9, 3. , 1.4, 0.2],\n",
              "       [4.6, 3.2, 1.4, 0.2],\n",
              "       [4.8, 3.4, 1.6, 0.2],\n",
              "       [6. , 3. , 4.8, 1.8],\n",
              "       [4.4, 3.2, 1.3, 0.2],\n",
              "       [6.5, 3. , 5.5, 1.8],\n",
              "       [5.5, 3.5, 1.3, 0.2],\n",
              "       [5.4, 3.4, 1.7, 0.2],\n",
              "       [7.2, 3.2, 6. , 1.8],\n",
              "       [5. , 3.2, 1.2, 0.2],\n",
              "       [6.4, 2.8, 5.6, 2.1],\n",
              "       [6.3, 3.3, 6. , 2.5],\n",
              "       [5.1, 3.4, 1.5, 0.2],\n",
              "       [5.1, 3.5, 1.4, 0.3],\n",
              "       [7.1, 3. , 5.9, 2.1],\n",
              "       [5.6, 3. , 4.5, 1.5],\n",
              "       [5.2, 2.7, 3.9, 1.4],\n",
              "       [6. , 2.9, 4.5, 1.5],\n",
              "       [5.7, 2.8, 4.5, 1.3],\n",
              "       [4.5, 2.3, 1.3, 0.3],\n",
              "       [4.4, 3. , 1.3, 0.2],\n",
              "       [5.4, 3. , 4.5, 1.5],\n",
              "       [5.1, 3.8, 1.6, 0.2],\n",
              "       [5. , 3.4, 1.6, 0.4],\n",
              "       [6.1, 2.6, 5.6, 1.4],\n",
              "       [5. , 3.5, 1.6, 0.6],\n",
              "       [6.7, 3.3, 5.7, 2.1],\n",
              "       [6.2, 2.9, 4.3, 1.3],\n",
              "       [5.7, 2.8, 4.1, 1.3],\n",
              "       [4.4, 2.9, 1.4, 0.2],\n",
              "       [4.7, 3.2, 1.3, 0.2],\n",
              "       [7.2, 3.6, 6.1, 2.5],\n",
              "       [4.9, 3.6, 1.4, 0.1],\n",
              "       [5.8, 2.8, 5.1, 2.4],\n",
              "       [6.2, 3.4, 5.4, 2.3],\n",
              "       [5.7, 3. , 4.2, 1.2],\n",
              "       [6.3, 2.8, 5.1, 1.5],\n",
              "       [7.4, 2.8, 6.1, 1.9],\n",
              "       [7.7, 2.8, 6.7, 2. ],\n",
              "       [6.3, 2.3, 4.4, 1.3],\n",
              "       [5.1, 3.8, 1.5, 0.3],\n",
              "       [4.8, 3.4, 1.9, 0.2],\n",
              "       [7.9, 3.8, 6.4, 2. ],\n",
              "       [4.6, 3.4, 1.4, 0.3],\n",
              "       [5. , 3.3, 1.4, 0.2],\n",
              "       [5.7, 3.8, 1.7, 0.3],\n",
              "       [6.8, 3. , 5.5, 2.1],\n",
              "       [4.9, 2.5, 4.5, 1.7],\n",
              "       [5.4, 3.7, 1.5, 0.2],\n",
              "       [6.5, 2.8, 4.6, 1.5],\n",
              "       [6.7, 3.3, 5.7, 2.5],\n",
              "       [5.7, 2.5, 5. , 2. ],\n",
              "       [5. , 3.4, 1.5, 0.2],\n",
              "       [6.1, 3. , 4.9, 1.8],\n",
              "       [6.5, 3. , 5.8, 2.2],\n",
              "       [5.6, 2.8, 4.9, 2. ],\n",
              "       [4.7, 3.2, 1.6, 0.2],\n",
              "       [5. , 3. , 1.6, 0.2],\n",
              "       [4.6, 3.6, 1. , 0.2],\n",
              "       [5.3, 3.7, 1.5, 0.2],\n",
              "       [6.4, 3.1, 5.5, 1.8],\n",
              "       [4.9, 3.1, 1.5, 0.2],\n",
              "       [7.7, 2.6, 6.9, 2.3],\n",
              "       [5.4, 3.4, 1.5, 0.4],\n",
              "       [5.1, 2.5, 3. , 1.1],\n",
              "       [6.6, 2.9, 4.6, 1.3],\n",
              "       [6.2, 2.2, 4.5, 1.5],\n",
              "       [6.3, 2.9, 5.6, 1.8],\n",
              "       [5.8, 2.7, 3.9, 1.2],\n",
              "       [6. , 3.4, 4.5, 1.6],\n",
              "       [5.5, 4.2, 1.4, 0.2],\n",
              "       [4.8, 3. , 1.4, 0.3],\n",
              "       [5. , 3.5, 1.3, 0.3],\n",
              "       [5.6, 2.7, 4.2, 1.3],\n",
              "       [6.4, 2.8, 5.6, 2.2],\n",
              "       [5.6, 3. , 4.1, 1.3],\n",
              "       [7.7, 3.8, 6.7, 2.2],\n",
              "       [5.5, 2.4, 3.7, 1. ],\n",
              "       [4.8, 3.1, 1.6, 0.2],\n",
              "       [6.4, 2.9, 4.3, 1.3],\n",
              "       [4.3, 3. , 1.1, 0.1],\n",
              "       [5.2, 3.5, 1.5, 0.2],\n",
              "       [6. , 2.2, 5. , 1.5],\n",
              "       [5.7, 2.6, 3.5, 1. ],\n",
              "       [5.2, 4.1, 1.5, 0.1],\n",
              "       [7.3, 2.9, 6.3, 1.8],\n",
              "       [5.7, 4.4, 1.5, 0.4],\n",
              "       [7. , 3.2, 4.7, 1.4],\n",
              "       [6.7, 3. , 5.2, 2.3],\n",
              "       [5.1, 3.5, 1.4, 0.2],\n",
              "       [4.8, 3. , 1.4, 0.1],\n",
              "       [6.1, 3. , 4.6, 1.4],\n",
              "       [5. , 2.3, 3.3, 1. ],\n",
              "       [5.5, 2.4, 3.8, 1.1],\n",
              "       [6.8, 2.8, 4.8, 1.4],\n",
              "       [6.1, 2.8, 4. , 1.3],\n",
              "       [6.3, 2.5, 5. , 1.9],\n",
              "       [6. , 2.2, 4. , 1. ],\n",
              "       [5.4, 3.9, 1.3, 0.4],\n",
              "       [5.9, 3. , 5.1, 1.8],\n",
              "       [5.9, 3.2, 4.8, 1.8],\n",
              "       [5.6, 2.9, 3.6, 1.3],\n",
              "       [6.9, 3.1, 5.4, 2.1],\n",
              "       [4.9, 2.4, 3.3, 1. ],\n",
              "       [6.4, 3.2, 5.3, 2.3],\n",
              "       [5.7, 2.9, 4.2, 1.3],\n",
              "       [7.2, 3. , 5.8, 1.6],\n",
              "       [5.5, 2.3, 4. , 1.3],\n",
              "       [6.7, 3. , 5. , 1.7],\n",
              "       [6.4, 2.7, 5.3, 1.9],\n",
              "       [6.6, 3. , 4.4, 1.4],\n",
              "       [6.9, 3.2, 5.7, 2.3],\n",
              "       [6.7, 3.1, 4.7, 1.5],\n",
              "       [6.1, 2.8, 4.7, 1.2],\n",
              "       [5. , 2. , 3.5, 1. ],\n",
              "       [7.6, 3. , 6.6, 2.1],\n",
              "       [6.3, 2.5, 4.9, 1.5],\n",
              "       [4.6, 3.1, 1.5, 0.2],\n",
              "       [6.5, 3. , 5.2, 2. ],\n",
              "       [6.9, 3.1, 4.9, 1.5]])"
            ]
          },
          "metadata": {},
          "execution_count": 11
        }
      ]
    },
    {
      "cell_type": "code",
      "source": [
        "from sklearn.linear_model import LogisticRegression\n",
        "model = LogisticRegression(solver = \"newton-cg\", multi_class=\"auto\")\n",
        "model.fit(X_train, y_train)"
      ],
      "metadata": {
        "colab": {
          "base_uri": "https://localhost:8080/"
        },
        "id": "q04XSrE-mdx1",
        "outputId": "f7271f73-6873-42c0-d5c6-d0c7c54d953a"
      },
      "execution_count": 13,
      "outputs": [
        {
          "output_type": "execute_result",
          "data": {
            "text/plain": [
              "LogisticRegression(solver='newton-cg')"
            ]
          },
          "metadata": {},
          "execution_count": 13
        }
      ]
    },
    {
      "cell_type": "code",
      "source": [
        "model.score(X_train, y_train)"
      ],
      "metadata": {
        "colab": {
          "base_uri": "https://localhost:8080/"
        },
        "id": "zL52i4EJneMF",
        "outputId": "f23292d0-19e2-4863-d700-d9f89ebfd4d0"
      },
      "execution_count": 16,
      "outputs": [
        {
          "output_type": "execute_result",
          "data": {
            "text/plain": [
              "0.975"
            ]
          },
          "metadata": {},
          "execution_count": 16
        }
      ]
    },
    {
      "cell_type": "code",
      "source": [
        "model.predict(X_test)"
      ],
      "metadata": {
        "colab": {
          "base_uri": "https://localhost:8080/"
        },
        "id": "VHKjg3gOmyw5",
        "outputId": "4eaf51c9-fc8a-42be-bc29-a84b0aa14bac"
      },
      "execution_count": 14,
      "outputs": [
        {
          "output_type": "execute_result",
          "data": {
            "text/plain": [
              "array([0, 2, 2, 0, 2, 2, 1, 0, 1, 1, 1, 1, 2, 0, 2, 0, 0, 1, 2, 1, 2, 2,\n",
              "       0, 1, 2, 1, 1, 2, 2, 0])"
            ]
          },
          "metadata": {},
          "execution_count": 14
        }
      ]
    },
    {
      "cell_type": "code",
      "source": [
        "model.score(X_test, y_test)"
      ],
      "metadata": {
        "colab": {
          "base_uri": "https://localhost:8080/"
        },
        "id": "jyxV4QjBm3fq",
        "outputId": "22cf9ca7-2e9a-4018-9bca-9bb4f2a037e7"
      },
      "execution_count": 15,
      "outputs": [
        {
          "output_type": "execute_result",
          "data": {
            "text/plain": [
              "0.9666666666666667"
            ]
          },
          "metadata": {},
          "execution_count": 15
        }
      ]
    },
    {
      "cell_type": "code",
      "source": [
        "iris.target[4]"
      ],
      "metadata": {
        "colab": {
          "base_uri": "https://localhost:8080/"
        },
        "id": "vjHdW87WnkvD",
        "outputId": "390e01c5-acab-4e05-e76a-c60465e72d99"
      },
      "execution_count": 19,
      "outputs": [
        {
          "output_type": "execute_result",
          "data": {
            "text/plain": [
              "0"
            ]
          },
          "metadata": {},
          "execution_count": 19
        }
      ]
    },
    {
      "cell_type": "code",
      "source": [
        "model.predict([iris.data[4]])"
      ],
      "metadata": {
        "colab": {
          "base_uri": "https://localhost:8080/"
        },
        "id": "71Tdq2FEnudr",
        "outputId": "e1e468e4-f12f-4ed4-c30a-ae7d183dca2c"
      },
      "execution_count": 21,
      "outputs": [
        {
          "output_type": "execute_result",
          "data": {
            "text/plain": [
              "array([0])"
            ]
          },
          "metadata": {},
          "execution_count": 21
        }
      ]
    }
  ]
}