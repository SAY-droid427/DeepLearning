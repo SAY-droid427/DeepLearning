{
  "nbformat": 4,
  "nbformat_minor": 0,
  "metadata": {
    "colab": {
      "name": "Untitled23.ipynb",
      "provenance": []
    },
    "kernelspec": {
      "name": "python3",
      "display_name": "Python 3"
    },
    "language_info": {
      "name": "python"
    }
  },
  "cells": [
    {
      "cell_type": "code",
      "execution_count": 1,
      "metadata": {
        "id": "uN3KU5C2WdxI"
      },
      "outputs": [],
      "source": [
        "import numpy as np\n",
        "import matplotlib.pyplot as plt\n",
        "import pandas as pd\n",
        "from sklearn.datasets import load_digits"
      ]
    },
    {
      "cell_type": "code",
      "source": [
        "digits = load_digits()\n",
        "dir(digits)"
      ],
      "metadata": {
        "colab": {
          "base_uri": "https://localhost:8080/"
        },
        "id": "kuomaW6aXEWp",
        "outputId": "f53d8c62-eecb-4950-accd-dd6087686259"
      },
      "execution_count": 4,
      "outputs": [
        {
          "output_type": "execute_result",
          "data": {
            "text/plain": [
              "['DESCR', 'data', 'feature_names', 'frame', 'images', 'target', 'target_names']"
            ]
          },
          "metadata": {},
          "execution_count": 4
        }
      ]
    },
    {
      "cell_type": "code",
      "source": [
        "digits.data[0]\n",
        "plt.gray()\n",
        "plt.matshow(digits.images[1])"
      ],
      "metadata": {
        "colab": {
          "base_uri": "https://localhost:8080/",
          "height": 309
        },
        "id": "yjIKs48jXQvl",
        "outputId": "f86f5840-51a5-48b3-b170-428382189ee7"
      },
      "execution_count": 8,
      "outputs": [
        {
          "output_type": "execute_result",
          "data": {
            "text/plain": [
              "<matplotlib.image.AxesImage at 0x7f3ab2322910>"
            ]
          },
          "metadata": {},
          "execution_count": 8
        },
        {
          "output_type": "display_data",
          "data": {
            "text/plain": [
              "<Figure size 432x288 with 0 Axes>"
            ]
          },
          "metadata": {}
        },
        {
          "output_type": "display_data",
          "data": {
            "image/png": "[encoded data removed]",
            "text/plain": [
              "<Figure size 288x288 with 1 Axes>"
            ]
          },
          "metadata": {
            "needs_background": "light"
          }
        }
      ]
    },
    {
      "cell_type": "code",
      "source": [
        "for i in range(5):\n",
        "  plt.matshow(digits.images[i])"
      ],
      "metadata": {
        "colab": {
          "base_uri": "https://localhost:8080/",
          "height": 1000
        },
        "id": "8iO6EongXjM5",
        "outputId": "2eb800d1-38f7-4ad3-9b8a-798d8e48ac02"
      },
      "execution_count": 9,
      "outputs": [
        {
          "output_type": "display_data",
          "data": {
            "image/png": "[encoded data removed]",
            "text/plain": [
              "<Figure size 288x288 with 1 Axes>"
            ]
          },
          "metadata": {
            "needs_background": "light"
          }
        },
        {
          "output_type": "display_data",
          "data": {
            "image/png": "[encoded data removed]",
            "text/plain": [
              "<Figure size 288x288 with 1 Axes>"
            ]
          },
          "metadata": {
            "needs_background": "light"
          }
        },
        {
          "output_type": "display_data",
          "data": {
            "image/png": "[encoded data removed]",
            "text/plain": [
              "<Figure size 288x288 with 1 Axes>"
            ]
          },
          "metadata": {
            "needs_background": "light"
          }
        },
        {
          "output_type": "display_data",
          "data": {
            "image/png": "[encoded data removed]",
            "text/plain": [
              "<Figure size 288x288 with 1 Axes>"
            ]
          },
          "metadata": {
            "needs_background": "light"
          }
        },
        {
          "output_type": "display_data",
          "data": {
            "image/png": "[encoded data removed]",
            "text/plain": [
              "<Figure size 288x288 with 1 Axes>"
            ]
          },
          "metadata": {
            "needs_background": "light"
          }
        }
      ]
    },
    {
      "cell_type": "code",
      "source": [
        "from sklearn.model_selection import train_test_split\n",
        "X_train, X_test, y_train, y_test = train_test_split(digits.data, digits.target, test_size = 0.2)\n",
        "X_train.shape"
      ],
      "metadata": {
        "colab": {
          "base_uri": "https://localhost:8080/"
        },
        "id": "Xlo-uvXQYOlV",
        "outputId": "9ac21bd4-ca9f-4820-ede5-f3b555873fb1"
      },
      "execution_count": 13,
      "outputs": [
        {
          "output_type": "execute_result",
          "data": {
            "text/plain": [
              "(1437, 64)"
            ]
          },
          "metadata": {},
          "execution_count": 13
        }
      ]
    },
    {
      "cell_type": "code",
      "source": [
        "from sklearn.linear_model import LogisticRegression\n",
        "model = LogisticRegression(solver = \"newton-cg\", multi_class=\"auto\")\n",
        "model.fit(X_train, y_train)"
      ],
      "metadata": {
        "colab": {
          "base_uri": "https://localhost:8080/"
        },
        "id": "POHSQtuyY95h",
        "outputId": "8d1a45b7-b926-4236-f118-792b061f4b57"
      },
      "execution_count": 17,
      "outputs": [
        {
          "output_type": "execute_result",
          "data": {
            "text/plain": [
              "LogisticRegression(solver='newton-cg')"
            ]
          },
          "metadata": {},
          "execution_count": 17
        }
      ]
    },
    {
      "cell_type": "code",
      "source": [
        "model.score(X_train, y_train)"
      ],
      "metadata": {
        "colab": {
          "base_uri": "https://localhost:8080/"
        },
        "id": "pm0pLzeHZeNC",
        "outputId": "43b16054-5953-4a46-b7ec-9fe1a6119dd0"
      },
      "execution_count": 18,
      "outputs": [
        {
          "output_type": "execute_result",
          "data": {
            "text/plain": [
              "1.0"
            ]
          },
          "metadata": {},
          "execution_count": 18
        }
      ]
    },
    {
      "cell_type": "code",
      "source": [
        "plt.matshow(digits.images[67])"
      ],
      "metadata": {
        "colab": {
          "base_uri": "https://localhost:8080/",
          "height": 292
        },
        "id": "XHmMIXfEaKE-",
        "outputId": "e3e576a9-c0c3-4665-a2fb-b8e12a31e158"
      },
      "execution_count": 24,
      "outputs": [
        {
          "output_type": "execute_result",
          "data": {
            "text/plain": [
              "<matplotlib.image.AxesImage at 0x7f3aa7a78a90>"
            ]
          },
          "metadata": {},
          "execution_count": 24
        },
        {
          "output_type": "display_data",
          "data": {
            "image/png": "[encoded data removed]",
            "text/plain": [
              "<Figure size 288x288 with 1 Axes>"
            ]
          },
          "metadata": {
            "needs_background": "light"
          }
        }
      ]
    },
    {
      "cell_type": "code",
      "source": [
        "model.predict([digits.data[67]])"
      ],
      "metadata": {
        "colab": {
          "base_uri": "https://localhost:8080/"
        },
        "id": "A0EDwv60Z-qQ",
        "outputId": "474263ed-da4a-4cd3-ac29-bc1b130ae202"
      },
      "execution_count": 21,
      "outputs": [
        {
          "output_type": "execute_result",
          "data": {
            "text/plain": [
              "array([6])"
            ]
          },
          "metadata": {},
          "execution_count": 21
        }
      ]
    },
    {
      "cell_type": "code",
      "source": [
        "model.predict(X_test)"
      ],
      "metadata": {
        "colab": {
          "base_uri": "https://localhost:8080/"
        },
        "id": "ybYv9Ov_acNg",
        "outputId": "64d98be5-72ea-4109-e6f2-9d75b8fc49b6"
      },
      "execution_count": 27,
      "outputs": [
        {
          "output_type": "execute_result",
          "data": {
            "text/plain": [
              "array([9, 7, 5, 8, 6, 3, 6, 5, 5, 4, 9, 0, 1, 9, 1, 3, 0, 2, 0, 7, 6, 4,\n",
              "       2, 9, 9, 1, 7, 3, 3, 2, 4, 4, 8, 5, 9, 5, 3, 9, 6, 9, 5, 4, 3, 7,\n",
              "       0, 0, 2, 2, 6, 5, 7, 9, 8, 2, 5, 4, 3, 0, 6, 5, 9, 4, 0, 1, 3, 9,\n",
              "       1, 6, 3, 2, 8, 3, 5, 0, 8, 5, 1, 1, 2, 1, 6, 9, 0, 1, 0, 5, 2, 2,\n",
              "       8, 0, 8, 4, 1, 4, 5, 2, 1, 8, 5, 8, 4, 2, 1, 4, 2, 7, 1, 7, 7, 4,\n",
              "       7, 1, 9, 8, 7, 2, 9, 1, 7, 3, 0, 8, 2, 6, 2, 8, 4, 9, 1, 2, 7, 1,\n",
              "       1, 6, 4, 9, 3, 0, 0, 4, 8, 3, 1, 0, 4, 9, 3, 6, 0, 8, 7, 7, 1, 0,\n",
              "       8, 3, 0, 0, 1, 6, 9, 2, 0, 9, 0, 8, 1, 5, 6, 7, 7, 7, 2, 8, 6, 5,\n",
              "       1, 7, 4, 1, 5, 5, 1, 8, 5, 0, 7, 0, 4, 1, 3, 6, 8, 0, 2, 4, 4, 6,\n",
              "       4, 2, 0, 2, 1, 3, 9, 1, 8, 1, 4, 5, 0, 5, 9, 3, 8, 1, 9, 3, 7, 5,\n",
              "       7, 6, 1, 7, 2, 4, 1, 4, 4, 9, 6, 7, 1, 9, 2, 5, 1, 8, 0, 8, 1, 5,\n",
              "       7, 8, 2, 8, 9, 7, 7, 9, 5, 8, 3, 7, 7, 3, 8, 3, 0, 9, 1, 1, 1, 4,\n",
              "       8, 1, 9, 5, 6, 7, 4, 7, 2, 9, 9, 9, 5, 3, 9, 7, 3, 4, 8, 5, 3, 6,\n",
              "       9, 0, 0, 8, 5, 9, 8, 1, 8, 4, 1, 9, 3, 0, 9, 1, 2, 3, 4, 0, 2, 3,\n",
              "       3, 3, 9, 2, 7, 8, 1, 0, 7, 7, 3, 2, 4, 9, 8, 8, 3, 5, 0, 1, 7, 3,\n",
              "       9, 1, 4, 5, 2, 2, 7, 0, 7, 9, 9, 5, 1, 5, 3, 4, 1, 0, 7, 5, 3, 0,\n",
              "       0, 1, 4, 4, 1, 9, 3, 6])"
            ]
          },
          "metadata": {},
          "execution_count": 27
        }
      ]
    },
    {
      "cell_type": "code",
      "source": [
        "model.score(X_test, y_test)"
      ],
      "metadata": {
        "colab": {
          "base_uri": "https://localhost:8080/"
        },
        "id": "SSX-xLYEaqqo",
        "outputId": "0833961d-b385-4741-cbb3-4fee8e9ad3f9"
      },
      "execution_count": 28,
      "outputs": [
        {
          "output_type": "execute_result",
          "data": {
            "text/plain": [
              "0.9611111111111111"
            ]
          },
          "metadata": {},
          "execution_count": 28
        }
      ]
    },
    {
      "cell_type": "code",
      "source": [
        "y_predicted = model.predict(X_test)\n",
        "from sklearn.metrics import confusion_matrix\n",
        "\n",
        "cn = confusion_matrix(y_test, y_predicted)\n",
        "cn"
      ],
      "metadata": {
        "colab": {
          "base_uri": "https://localhost:8080/"
        },
        "id": "7neuttrEa10Q",
        "outputId": "693cd9a6-4f2c-44d7-e91e-b375cebfcdfe"
      },
      "execution_count": 29,
      "outputs": [
        {
          "output_type": "execute_result",
          "data": {
            "text/plain": [
              "array([[38,  0,  0,  0,  0,  0,  0,  0,  0,  0],\n",
              "       [ 0, 47,  0,  0,  0,  0,  0,  0,  0,  1],\n",
              "       [ 0,  0, 32,  0,  0,  0,  0,  0,  0,  0],\n",
              "       [ 0,  0,  0, 35,  0,  0,  0,  0,  0,  0],\n",
              "       [ 0,  1,  0,  0, 33,  0,  0,  1,  1,  0],\n",
              "       [ 0,  0,  0,  0,  0, 33,  0,  0,  0,  1],\n",
              "       [ 0,  0,  0,  0,  2,  0, 21,  0,  0,  0],\n",
              "       [ 0,  0,  0,  0,  0,  0,  0, 36,  0,  0],\n",
              "       [ 0,  1,  0,  0,  0,  0,  0,  0, 34,  3],\n",
              "       [ 0,  0,  0,  1,  0,  1,  0,  1,  0, 37]])"
            ]
          },
          "metadata": {},
          "execution_count": 29
        }
      ]
    },
    {
      "cell_type": "code",
      "source": [
        "import seaborn as sn\n",
        "plt.figure(figsize = (10,7))\n",
        "sn.heatmap(cn, annot=True)\n",
        "plt.xlabel('Predicted')\n",
        "plt.ylabel('Truth')"
      ],
      "metadata": {
        "colab": {
          "base_uri": "https://localhost:8080/",
          "height": 459
        },
        "id": "dpLDW-eJbejX",
        "outputId": "97116aeb-d7b7-4da4-90ee-3dd47fd40046"
      },
      "execution_count": 30,
      "outputs": [
        {
          "output_type": "execute_result",
          "data": {
            "text/plain": [
              "Text(69.0, 0.5, 'Truth')"
            ]
          },
          "metadata": {},
          "execution_count": 30
        },
        {
          "output_type": "display_data",
          "data": {
            "image/png": "[encoded data removed]",
            "text/plain": [
              "<Figure size 720x504 with 2 Axes>"
            ]
          },
          "metadata": {
            "needs_background": "light"
          }
        }
      ]
    }
  ]
}