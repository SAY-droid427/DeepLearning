{
  "nbformat": 4,
  "nbformat_minor": 0,
  "metadata": {
    "colab": {
      "name": "Untitled47.ipynb",
      "provenance": []
    },
    "kernelspec": {
      "name": "python3",
      "display_name": "Python 3"
    },
    "language_info": {
      "name": "python"
    }
  },
  "cells": [
    {
      "cell_type": "markdown",
      "source": [
        "# Word Embedding Using keras"
      ],
      "metadata": {
        "id": "6Era4beHGUYU"
      }
    },
    {
      "cell_type": "code",
      "execution_count": 2,
      "metadata": {
        "id": "hD2qiNfnC95j"
      },
      "outputs": [],
      "source": [
        "import numpy as np\n",
        "from tensorflow.keras.preprocessing.text import one_hot\n",
        "from tensorflow.keras.preprocessing.sequence import pad_sequences\n",
        "from tensorflow.keras.models import Sequential\n",
        "from tensorflow.keras.layers import Dense\n",
        "from tensorflow.keras.layers import Flatten\n",
        "from tensorflow.keras.layers import Embedding"
      ]
    },
    {
      "cell_type": "code",
      "source": [
        "reviews = ['nice food',\n",
        "           'amazing restaurant',\n",
        "           'too good',\n",
        "           'just loved it!',\n",
        "           'will go again',\n",
        "           'horrible food',\n",
        "           'never go there',\n",
        "           'poor service',\n",
        "           'poor quality',\n",
        "           'needs improvement']\n",
        "\n",
        "sentiment = np.array([1,1,1,1,1,0,0,0,0,0])"
      ],
      "metadata": {
        "id": "U3-ph8ADDpi-"
      },
      "execution_count": 3,
      "outputs": []
    },
    {
      "cell_type": "code",
      "source": [
        "one_hot(\"amazing restaurant\", 30)"
      ],
      "metadata": {
        "colab": {
          "base_uri": "https://localhost:8080/"
        },
        "id": "KhPnV8D4EOKA",
        "outputId": "fff59d3c-bedc-4056-d410-cef408f85109"
      },
      "execution_count": 4,
      "outputs": [
        {
          "output_type": "execute_result",
          "data": {
            "text/plain": [
              "[14, 4]"
            ]
          },
          "metadata": {},
          "execution_count": 4
        }
      ]
    },
    {
      "cell_type": "code",
      "source": [
        "vocab_size = 30\n",
        "encoded_reviews = [one_hot(d, vocab_size) for d in reviews]\n",
        "encoded_reviews"
      ],
      "metadata": {
        "colab": {
          "base_uri": "https://localhost:8080/"
        },
        "id": "vEv2YbCVEV1Y",
        "outputId": "976c68d2-8714-48a2-9fc8-4920c143cac9"
      },
      "execution_count": 6,
      "outputs": [
        {
          "output_type": "execute_result",
          "data": {
            "text/plain": [
              "[[20, 24],\n",
              " [14, 4],\n",
              " [21, 19],\n",
              " [9, 9, 5],\n",
              " [24, 25, 26],\n",
              " [25, 24],\n",
              " [19, 25, 24],\n",
              " [18, 10],\n",
              " [18, 27],\n",
              " [20, 29]]"
            ]
          },
          "metadata": {},
          "execution_count": 6
        }
      ]
    },
    {
      "cell_type": "code",
      "source": [
        "max_length = 3\n",
        "padded_reviews = pad_sequences(encoded_reviews, maxlen=max_length, padding='post')\n",
        "padded_reviews"
      ],
      "metadata": {
        "colab": {
          "base_uri": "https://localhost:8080/"
        },
        "id": "v298IaWQE2SA",
        "outputId": "cfdf0e1f-67f8-4d74-e9fc-e10ade7c2708"
      },
      "execution_count": 7,
      "outputs": [
        {
          "output_type": "execute_result",
          "data": {
            "text/plain": [
              "array([[20, 24,  0],\n",
              "       [14,  4,  0],\n",
              "       [21, 19,  0],\n",
              "       [ 9,  9,  5],\n",
              "       [24, 25, 26],\n",
              "       [25, 24,  0],\n",
              "       [19, 25, 24],\n",
              "       [18, 10,  0],\n",
              "       [18, 27,  0],\n",
              "       [20, 29,  0]], dtype=int32)"
            ]
          },
          "metadata": {},
          "execution_count": 7
        }
      ]
    },
    {
      "cell_type": "code",
      "source": [
        "embedded_vector_size = 4\n",
        "\n",
        "model = Sequential()\n",
        "model.add(Embedding(vocab_size, embedded_vector_size, input_length=max_length, name='embedding'))\n",
        "model.add(Flatten())\n",
        "model.add(Dense(1, activation='sigmoid'))"
      ],
      "metadata": {
        "id": "pL9kZxH0FJ3w"
      },
      "execution_count": 9,
      "outputs": []
    },
    {
      "cell_type": "code",
      "source": [
        "x = padded_reviews\n",
        "y = sentiment"
      ],
      "metadata": {
        "id": "FjpqL1MpFmYD"
      },
      "execution_count": 10,
      "outputs": []
    },
    {
      "cell_type": "code",
      "source": [
        "model.compile(optimizer='adam', loss='binary_crossentropy', metrics=['accuracy'])\n",
        "model.summary()"
      ],
      "metadata": {
        "colab": {
          "base_uri": "https://localhost:8080/"
        },
        "id": "7Mj6cGwNFsey",
        "outputId": "e052ebc5-9464-4f22-f681-a30bc12ad49b"
      },
      "execution_count": 11,
      "outputs": [
        {
          "output_type": "stream",
          "name": "stdout",
          "text": [
            "Model: \"sequential_1\"\n",
            "_________________________________________________________________\n",
            " Layer (type)                Output Shape              Param #   \n",
            "=================================================================\n",
            " embedding (Embedding)       (None, 3, 4)              120       \n",
            "                                                                 \n",
            " flatten_1 (Flatten)         (None, 12)                0         \n",
            "                                                                 \n",
            " dense_1 (Dense)             (None, 1)                 13        \n",
            "                                                                 \n",
            "=================================================================\n",
            "Total params: 133\n",
            "Trainable params: 133\n",
            "Non-trainable params: 0\n",
            "_________________________________________________________________\n"
          ]
        }
      ]
    },
    {
      "cell_type": "code",
      "source": [
        "model.fit(x, y, epochs=50, verbose=0)"
      ],
      "metadata": {
        "colab": {
          "base_uri": "https://localhost:8080/"
        },
        "id": "5P-bDpJIF6kH",
        "outputId": "829b93cc-fe83-4be2-a61f-fea133a04fb4"
      },
      "execution_count": 12,
      "outputs": [
        {
          "output_type": "execute_result",
          "data": {
            "text/plain": [
              "<keras.callbacks.History at 0x7fca31f37f90>"
            ]
          },
          "metadata": {},
          "execution_count": 12
        }
      ]
    },
    {
      "cell_type": "code",
      "source": [
        "loss, accuracy=model.evaluate(x, y)\n",
        "accuracy"
      ],
      "metadata": {
        "colab": {
          "base_uri": "https://localhost:8080/"
        },
        "id": "sHUhVcS6GBXr",
        "outputId": "00c8759a-c1e3-478c-9951-09bafced2407"
      },
      "execution_count": 13,
      "outputs": [
        {
          "output_type": "stream",
          "name": "stdout",
          "text": [
            "1/1 [==============================] - 0s 146ms/step - loss: 0.6338 - accuracy: 1.0000\n"
          ]
        },
        {
          "output_type": "execute_result",
          "data": {
            "text/plain": [
              "1.0"
            ]
          },
          "metadata": {},
          "execution_count": 13
        }
      ]
    },
    {
      "cell_type": "code",
      "source": [
        "model.get_layer('embedding').get_weights()[0]"
      ],
      "metadata": {
        "colab": {
          "base_uri": "https://localhost:8080/"
        },
        "id": "rgw7xwlaGHRA",
        "outputId": "af4ebed2-1217-48fa-e5fd-caffd380f68a"
      },
      "execution_count": 14,
      "outputs": [
        {
          "output_type": "execute_result",
          "data": {
            "text/plain": [
              "array([[-0.00730799,  0.03356212, -0.06189142,  0.04981997],\n",
              "       [ 0.00650828, -0.0174328 , -0.03545304,  0.01821922],\n",
              "       [-0.04530362,  0.02609674,  0.03122467,  0.00497054],\n",
              "       [-0.0056969 , -0.01490759, -0.01567695,  0.04422635],\n",
              "       [ 0.04931613,  0.03576031,  0.06775573,  0.05581364],\n",
              "       [ 0.08034857, -0.09537691,  0.0108374 , -0.03937008],\n",
              "       [-0.04431583,  0.0046685 , -0.02559404, -0.01847645],\n",
              "       [-0.0426006 , -0.04206586,  0.04697524,  0.03868971],\n",
              "       [-0.03165205, -0.00199654,  0.03815428,  0.02615592],\n",
              "       [-0.02260797,  0.02856285,  0.09715138,  0.05987762],\n",
              "       [-0.02477571, -0.05884882, -0.04914263, -0.0025575 ],\n",
              "       [-0.04921914,  0.0468496 , -0.01719188, -0.0292092 ],\n",
              "       [ 0.02304571, -0.03477014,  0.03825513,  0.04227732],\n",
              "       [ 0.01702192,  0.03951902, -0.02609348,  0.02315673],\n",
              "       [-0.04963588, -0.0733697 ,  0.08390422,  0.08676935],\n",
              "       [ 0.0408729 , -0.04796949,  0.00685157,  0.00051643],\n",
              "       [-0.0073846 ,  0.0321111 , -0.01115146,  0.0006475 ],\n",
              "       [-0.04923023,  0.043357  , -0.02656045,  0.00871081],\n",
              "       [ 0.08086302,  0.00338376, -0.01572289, -0.00250812],\n",
              "       [ 0.03950379,  0.07275205,  0.01236135, -0.09162094],\n",
              "       [-0.03190405, -0.03286836,  0.03481565, -0.01393623],\n",
              "       [-0.04552076, -0.05391714,  0.03836784,  0.03701314],\n",
              "       [ 0.03520877,  0.01942552,  0.04683587,  0.02453606],\n",
              "       [-0.04954791,  0.03792634, -0.00186985, -0.04503112],\n",
              "       [-0.02239137,  0.08441214,  0.0326038 ,  0.02164003],\n",
              "       [ 0.0993763 ,  0.08099859, -0.02342509, -0.09086407],\n",
              "       [ 0.08711306, -0.03185201,  0.00053865, -0.04662587],\n",
              "       [-0.07927199, -0.0374652 , -0.00328647, -0.02910117],\n",
              "       [-0.0459626 , -0.02928745,  0.00426364, -0.0049477 ],\n",
              "       [-0.01385827, -0.07996944, -0.00490532, -0.09684847]],\n",
              "      dtype=float32)"
            ]
          },
          "metadata": {},
          "execution_count": 14
        }
      ]
    }
  ]
}